{
 "cells": [
  {
   "cell_type": "markdown",
   "id": "cb93c487-2d9f-4326-b5f7-2ec9d2c73e80",
   "metadata": {},
   "source": [
    "## CREATING EXCELL WORKBOOK AND SHEET FROM SCRATCH AND WRITTING VALUES TO IT USING OPENPYXL"
   ]
  },
  {
   "cell_type": "code",
   "execution_count": 7,
   "id": "3019b063-340d-4051-b5a5-aafb9c7f0860",
   "metadata": {
    "tags": []
   },
   "outputs": [],
   "source": [
    "from openpyxl import Workbook\n",
    "# Importing PatternFill\n",
    "\n",
    "from openpyxl.styles import PatternFill\n",
    "\n",
    "wb = Workbook()\n",
    "\n",
    "# check sheet name\n",
    "#print(wb.active)\n",
    "\n",
    "# assign sheet name\n",
    "wb['Sheet'].title = 'data'\n",
    "\n",
    "# assign active sheet to variable sh1\n",
    "sh1 = wb.active\n",
    "\n",
    "\n",
    "# Write to sheet cells\n",
    "\n",
    "sh1['A1'].value = 'Name'\n",
    "sh1['B1'].value = 'Age'\n",
    "sh1['C1'].value = 'Sex'\n",
    "\n",
    "sh1['A2'].value = 'Alex'\n",
    "sh1['B2'].value = 19\n",
    "sh1['C2'].value = 'M'\n",
    "\n",
    "sh1['C2'].fill=PatternFill('solid', fgColor='71ff33',)\n",
    "\n",
    "sh1['A3'].value = 'Jane'\n",
    "sh1['B3'].value = 25\n",
    "sh1['C3'].value = 'F'\n",
    "\n",
    "sh1['C3'].fill=PatternFill('solid', fgColor='f50707',)\n",
    "\n",
    "\n",
    "# Saving the workbook\n",
    "wb.save('bio.xlsx')"
   ]
  },
  {
   "cell_type": "code",
   "execution_count": null,
   "id": "f9073d08-f9e8-4442-b6c5-c2846f076d16",
   "metadata": {},
   "outputs": [],
   "source": []
  }
 ],
 "metadata": {
  "kernelspec": {
   "display_name": "Python 3 (ipykernel)",
   "language": "python",
   "name": "python3"
  },
  "language_info": {
   "codemirror_mode": {
    "name": "ipython",
    "version": 3
   },
   "file_extension": ".py",
   "mimetype": "text/x-python",
   "name": "python",
   "nbconvert_exporter": "python",
   "pygments_lexer": "ipython3",
   "version": "3.11.5"
  }
 },
 "nbformat": 4,
 "nbformat_minor": 5
}
