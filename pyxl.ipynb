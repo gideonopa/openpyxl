{
 "cells": [
  {
   "cell_type": "markdown",
   "id": "bb7f3987-1ace-4e90-a433-cef3660b389d",
   "metadata": {},
   "source": [
    "## READING AND WRITING EXCEL FILE WITH OPENPYXL LIBRARY"
   ]
  },
  {
   "cell_type": "code",
   "execution_count": 23,
   "id": "879ba614-2cbf-4026-8149-caf5af7414a5",
   "metadata": {
    "tags": []
   },
   "outputs": [
    {
     "name": "stdout",
     "output_type": "stream",
     "text": [
      "['songs', 'Sheet2', 'Sheet3']\n"
     ]
    }
   ],
   "source": [
    "import openpyxl\n",
    "\n",
    "#loading workbook\n",
    "wb = openpyxl.load_workbook(\"song_frame_1.xlsx\")\n",
    "\n",
    "#getting sheetnames in the workbook\n",
    "sheets = wb.sheetnames\n",
    "\n",
    "print(sheets)"
   ]
  },
  {
   "cell_type": "code",
   "execution_count": 24,
   "id": "e1aa5258-0f90-4249-aaec-6e6c680f10c5",
   "metadata": {
    "tags": []
   },
   "outputs": [
    {
     "name": "stdout",
     "output_type": "stream",
     "text": [
      "<Worksheet \"songs\">\n",
      "songs\n"
     ]
    }
   ],
   "source": [
    "#print active sheet in a workbook\n",
    "print(wb.active)\n",
    "\n",
    "print(wb.active.title)"
   ]
  },
  {
   "cell_type": "code",
   "execution_count": 27,
   "id": "317d60ab-68f7-4efd-8338-846aaa5b410a",
   "metadata": {
    "tags": []
   },
   "outputs": [
    {
     "name": "stdout",
     "output_type": "stream",
     "text": [
      "Thriller\n",
      "The Bodyguard\n"
     ]
    }
   ],
   "source": [
    "# option 1 to get value of a cell in the active sheet of a workbook\n",
    "\n",
    "sh1 = wb['songs']\n",
    "\n",
    "d1 = sh1['A2'].value\n",
    "\n",
    "d2 = sh1['B2'].value\n",
    "print(d2)\n",
    "\n",
    "\n",
    "d3 = wb['songs']['B3'].value\n",
    "\n",
    "print(d3)"
   ]
  },
  {
   "cell_type": "code",
   "execution_count": 43,
   "id": "bc6197f9-4502-47a8-81a9-25f3d7aed217",
   "metadata": {
    "tags": []
   },
   "outputs": [
    {
     "name": "stdout",
     "output_type": "stream",
     "text": [
      "Album\n",
      "Released\n",
      "1\n",
      "Thriller\n",
      "1982\n",
      "2\n",
      "The Bodyguard\n",
      "1992\n"
     ]
    }
   ],
   "source": [
    "# option 2 to get value of a cell in the active sheet of a workbook\n",
    "# this option uses row comma column style\n",
    "\n",
    "d4 = sh1.cell(1,2).value\n",
    "print(d4)\n",
    "\n",
    "d5 = sh1.cell(1,3).value\n",
    "print(d5)\n",
    "\n",
    "\n",
    "print(sh1.cell(2,1).value)\n",
    "print(sh1.cell(2,2).value)\n",
    "print(sh1.cell(2,3).value)\n",
    "\n",
    "print(sh1.cell(3,1).value)\n",
    "print(sh1.cell(3,2).value)\n",
    "print(sh1.cell(3,3).value)"
   ]
  },
  {
   "cell_type": "code",
   "execution_count": 47,
   "id": "e45f5b2b-8fe9-4d09-9f6f-72843c16b426",
   "metadata": {
    "tags": []
   },
   "outputs": [
    {
     "name": "stdout",
     "output_type": "stream",
     "text": [
      "Name\n",
      "Number\n",
      "Ronaldo\n",
      "7\n",
      "Messi\n",
      "11\n"
     ]
    }
   ],
   "source": [
    "# Sheet2\n",
    "sh2 = wb['Sheet2']\n",
    "\n",
    "print(sh2.cell(1,1).value)\n",
    "print(sh2.cell(1,2).value)\n",
    "\n",
    "print(sh2.cell(2,1).value)\n",
    "print(sh2.cell(2,2).value)\n",
    "\n",
    "print(sh2.cell(3,1).value)\n",
    "print(sh2.cell(3,2).value)"
   ]
  },
  {
   "cell_type": "code",
   "execution_count": 54,
   "id": "3fdf7218-2912-4d0e-918c-59581ed6f8df",
   "metadata": {
    "tags": []
   },
   "outputs": [
    {
     "name": "stdout",
     "output_type": "stream",
     "text": [
      "Ronaldo\n",
      "7\n"
     ]
    }
   ],
   "source": [
    "# Using option 1 on Sheet2\n",
    "\n",
    "print(wb['Sheet2']['A2'].value)\n",
    "print(wb['Sheet2']['B2'].value)"
   ]
  },
  {
   "cell_type": "code",
   "execution_count": 56,
   "id": "c2259382-ff70-435e-83aa-dff0eb9526d3",
   "metadata": {
    "tags": []
   },
   "outputs": [
    {
     "name": "stdout",
     "output_type": "stream",
     "text": [
      "Messi\n",
      "11\n"
     ]
    }
   ],
   "source": [
    "# option 3 to get value of a cell in the active sheet of a workbook\n",
    "# this option uses row comma column style\n",
    "\n",
    "# Using option 3 on Sheet2\n",
    "\n",
    "print(sh2.cell(row=3, column=1).value)\n",
    "print(sh2.cell(row=3, column=2).value)"
   ]
  },
  {
   "cell_type": "code",
   "execution_count": 60,
   "id": "b2d8b475-e30e-4b20-9884-be9389080c89",
   "metadata": {
    "tags": []
   },
   "outputs": [
    {
     "name": "stdout",
     "output_type": "stream",
     "text": [
      "The Bodyguard\n"
     ]
    },
    {
     "name": "stderr",
     "output_type": "stream",
     "text": [
      "/tmp/ipykernel_5162/4098749268.py:3: DeprecationWarning: Call to deprecated function get_sheet_by_name (Use wb[sheetname]).\n",
      "  op4 = wb.get_sheet_by_name('songs').cell(row=3, column=2).value\n"
     ]
    }
   ],
   "source": [
    "# option 4\n",
    "\n",
    "op4 = wb.get_sheet_by_name('songs').cell(row=3, column=2).value\n",
    "\n",
    "print(op4)"
   ]
  },
  {
   "cell_type": "code",
   "execution_count": 67,
   "id": "a5352db2-ae59-4a79-a4cb-2159dbc7b431",
   "metadata": {
    "tags": []
   },
   "outputs": [
    {
     "name": "stdout",
     "output_type": "stream",
     "text": [
      "3\n",
      "4\n"
     ]
    }
   ],
   "source": [
    "#getting the numbers of rows and columns\n",
    "\n",
    "r = sh1.max_row\n",
    "c = sh1.max_column\n",
    "\n",
    "print(r)\n",
    "print(c)"
   ]
  },
  {
   "cell_type": "code",
   "execution_count": 81,
   "id": "9c9eea3d-97ec-4b10-93df-97d53e4c168f",
   "metadata": {
    "tags": []
   },
   "outputs": [
    {
     "name": "stdout",
     "output_type": "stream",
     "text": [
      "SN\n",
      "Album\n",
      "Released\n",
      "Length\n",
      "1\n",
      "Thriller\n",
      "1982\n",
      "00:20:19\n",
      "2\n",
      "The Bodyguard\n",
      "1992\n",
      "00:38:09\n"
     ]
    }
   ],
   "source": [
    "# Using forloop to get data\n",
    "for i in range(1,r+1):\n",
    "    for j in range(1,c+1):\n",
    "        print(sh1.cell(i,j).value)\n"
   ]
  },
  {
   "cell_type": "code",
   "execution_count": 84,
   "id": "7efffaac-2b62-459e-adad-171e4a149370",
   "metadata": {
    "tags": []
   },
   "outputs": [],
   "source": [
    "# Appending or writing values in empty cells\n",
    "\n",
    "sh1.cell(row=4, column=1, value=3)\n",
    "sh1.cell(row=4, column=2, value='Theta')\n",
    "sh1.cell(row=4, column=3, value=2022)\n",
    "sh1.cell(row=4, column=4, value='00:20:19')\n",
    "\n",
    "# Saving\n",
    "wb.save(\"song_frame_1.xlsx\")"
   ]
  },
  {
   "cell_type": "code",
   "execution_count": 85,
   "id": "d0655db2-7896-47d4-837f-2d80dc85e43d",
   "metadata": {
    "tags": []
   },
   "outputs": [],
   "source": [
    "# Saving as another workbook\n",
    "wb.save(\"xldata.xlsx\")"
   ]
  },
  {
   "cell_type": "code",
   "execution_count": null,
   "id": "ef8c0612-e695-4c0c-a08e-72bdff155561",
   "metadata": {},
   "outputs": [],
   "source": []
  }
 ],
 "metadata": {
  "kernelspec": {
   "display_name": "Python 3 (ipykernel)",
   "language": "python",
   "name": "python3"
  },
  "language_info": {
   "codemirror_mode": {
    "name": "ipython",
    "version": 3
   },
   "file_extension": ".py",
   "mimetype": "text/x-python",
   "name": "python",
   "nbconvert_exporter": "python",
   "pygments_lexer": "ipython3",
   "version": "3.11.5"
  }
 },
 "nbformat": 4,
 "nbformat_minor": 5
}
